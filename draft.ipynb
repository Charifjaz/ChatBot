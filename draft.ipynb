{
 "cells": [
  {
   "cell_type": "code",
   "execution_count": 5,
   "metadata": {},
   "outputs": [
    {
     "name": "stdout",
     "output_type": "stream",
     "text": [
      "GPU disponible : False\n",
      "Nombre de GPU : 0\n"
     ]
    }
   ],
   "source": [
    "import torch\n",
    "print(\"GPU disponible :\", torch.cuda.is_available())\n",
    "print(\"Nombre de GPU :\", torch.cuda.device_count())\n",
    "if torch.cuda.is_available():   \n",
    "    print(\"Nom du GPU :\", torch.cuda.get_device_name(0))"
   ]
  },
  {
   "cell_type": "code",
   "execution_count": 31,
   "metadata": {},
   "outputs": [],
   "source": [
    "from transformers import AutoModelForCausalLM, AutoTokenizer\n",
    "\n",
    "# Charger le tokenizer et le modèle distilGPT-2\n",
    "model_name = \"distilgpt2\"\n",
    "model_name = \"EleutherAI/gpt-neo-125M\"\n",
    "tokenizer = AutoTokenizer.from_pretrained(model_name)\n",
    "model = AutoModelForCausalLM.from_pretrained(model_name)\n",
    "\n",
    "\n",
    "tokenizer.pad_token = tokenizer.eos_token\n",
    "# inputs = tokenizer(\"This is a test\", return_tensors=\"pt\", padding=True)"
   ]
  },
  {
   "cell_type": "code",
   "execution_count": 32,
   "metadata": {},
   "outputs": [],
   "source": [
    "# Entrée utilisateur pour tester le modèle\n",
    "prompt = \"La capitale de la France est \"\n",
    "inputs = tokenizer(prompt, return_tensors=\"pt\")"
   ]
  },
  {
   "cell_type": "code",
   "execution_count": 33,
   "metadata": {},
   "outputs": [],
   "source": [
    "# Générer du texte\n",
    "# outputs = model.generate(inputs.input_ids, max_length=50, num_return_sequences=1)\n",
    "\n",
    "outputs = model.generate(\n",
    "    inputs.input_ids,\n",
    "    attention_mask=inputs[\"attention_mask\"],\n",
    "    max_length=50,  # Longueur maximale du texte généré\n",
    "    pad_token_id=tokenizer.eos_token_id,\n",
    "    do_sample=True,  # Active le sampling (échantillonnage)\n",
    "    top_k=50,  # Ne considère que les 50 tokens les plus probables\n",
    "    top_p=0.95,  # Nucleus sampling : ne garde que les tokens avec une probabilité cumulative <= 95%\n",
    "    temperature=0.7,  # Ajoute de l’aléatoire : 0.7 = plus de cohérence, > 1.0 = plus de créativité\n",
    "    repetition_penalty=1.2  # Pénalise les tokens déjà générés\n",
    ")\n"
   ]
  },
  {
   "cell_type": "code",
   "execution_count": 34,
   "metadata": {},
   "outputs": [
    {
     "name": "stdout",
     "output_type": "stream",
     "text": [
      "Texte généré : La capitale de la France est été aujourd'hui comme une dernière fois. Les écrivains de l'histoire sont déjà en effet le plus petits de\n"
     ]
    }
   ],
   "source": [
    "generated_text = tokenizer.decode(outputs[0], skip_special_tokens=True)\n",
    "print(\"Texte généré :\", generated_text)"
   ]
  },
  {
   "cell_type": "code",
   "execution_count": null,
   "metadata": {},
   "outputs": [],
   "source": []
  }
 ],
 "metadata": {
  "kernelspec": {
   "display_name": "genai",
   "language": "python",
   "name": "python3"
  },
  "language_info": {
   "codemirror_mode": {
    "name": "ipython",
    "version": 3
   },
   "file_extension": ".py",
   "mimetype": "text/x-python",
   "name": "python",
   "nbconvert_exporter": "python",
   "pygments_lexer": "ipython3",
   "version": "3.12.2"
  }
 },
 "nbformat": 4,
 "nbformat_minor": 2
}
